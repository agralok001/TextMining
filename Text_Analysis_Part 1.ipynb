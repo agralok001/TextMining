{
 "cells": [
  {
   "cell_type": "code",
   "execution_count": 59,
   "metadata": {},
   "outputs": [],
   "source": [
    "################################################################################################################################"
   ]
  },
  {
   "cell_type": "code",
   "execution_count": 60,
   "metadata": {},
   "outputs": [],
   "source": [
    "################################################################################################################################"
   ]
  },
  {
   "cell_type": "code",
   "execution_count": 61,
   "metadata": {},
   "outputs": [],
   "source": [
    "################################################################################################################################"
   ]
  },
  {
   "cell_type": "code",
   "execution_count": null,
   "metadata": {},
   "outputs": [],
   "source": []
  },
  {
   "cell_type": "markdown",
   "metadata": {
    "scrolled": true
   },
   "source": [
    "##### Get current working directory\n",
    "import os\n",
    "print(os.getcwd())\n",
    "\n",
    "##### Set the working directory\n",
    "os.chdir(\"c:/Ptest\") \n",
    "os.getcwd()"
   ]
  },
  {
   "cell_type": "code",
   "execution_count": null,
   "metadata": {},
   "outputs": [],
   "source": []
  },
  {
   "cell_type": "code",
   "execution_count": 63,
   "metadata": {},
   "outputs": [],
   "source": [
    "##### 1. Load text and convert it into a list or a text string "
   ]
  },
  {
   "cell_type": "code",
   "execution_count": 7,
   "metadata": {},
   "outputs": [
    {
     "name": "stdout",
     "output_type": "stream",
     "text": [
      "(63, 1)\n",
      "                              Customer_comment\n",
      "0                          Friendly employees \n",
      "1  Friendly bank personnel.Good banking hours.\n",
      "2              service and interest rate on cd\n",
      "Index(['Customer_comment'], dtype='object')\n"
     ]
    }
   ],
   "source": [
    "import pandas as pd\n",
    "df_0 = pd.read_csv(r'C:\\Users\\Alok\\Google Drive\\Analytics\\Github\\TextMining\\TextMining\\Customer_comment.csv')\n",
    "#df_0 = pd.read_csv('problem_edbbranch.csv','encoding=UTF-8')  \n",
    "#text = 'BMO is not very flexible with the needs for customers.'\n",
    "print(df_0.shape)\n",
    "print(df_0.head(3)) #df['problem'].head()  #Alternatively, df['problem'][:5]\n",
    "print(df_0.columns)\n",
    "\n",
    "\n",
    "## Create a dataframe with column names\n",
    "#df = pd.DataFrame(data, columns = ['first_name', 'last_name', 'age', 'preTestScore', 'postTestScore'])\n",
    "#df.to_csv('data.csv')   #To save the dataframe as csv in the working directory\n",
    "#df.to_csv(file_name, sep='\\t', encoding='utf-8')\n",
    "\n",
    "## Save the dataframe output into a csv file\n",
    "#df_output = pd.DataFrame(word_freq, columns = ['word', 'frequency'])"
   ]
  },
  {
   "cell_type": "code",
   "execution_count": 9,
   "metadata": {},
   "outputs": [],
   "source": [
    "df=df_0"
   ]
  },
  {
   "cell_type": "code",
   "execution_count": 8,
   "metadata": {},
   "outputs": [],
   "source": [
    "##### 2. Subset rows and columns and rename columns"
   ]
  },
  {
   "cell_type": "code",
   "execution_count": 9,
   "metadata": {},
   "outputs": [
    {
     "data": {
      "text/plain": [
       "(25, 3)"
      ]
     },
     "execution_count": 9,
     "metadata": {},
     "output_type": "execute_result"
    }
   ],
   "source": [
    "# Subset rows\n",
    "#df_1= df_0[(df_0['rnpsTYPE'] == 'Personal') & (df_0['NPS Group'] == 'Detractor')]\n",
    "#df_1.shape\n",
    "\n",
    "# When selecting Detractors only\n",
    "# select_detractor = df_renamed_columns.loc[df_renamed_columns == 'Detractor']"
   ]
  },
  {
   "cell_type": "code",
   "execution_count": null,
   "metadata": {},
   "outputs": [],
   "source": []
  },
  {
   "cell_type": "code",
   "execution_count": 11,
   "metadata": {},
   "outputs": [],
   "source": [
    "################################################################################################################################\n",
    "##### 3. Briefly look at the text data initially "
   ]
  },
  {
   "cell_type": "code",
   "execution_count": 10,
   "metadata": {
    "scrolled": true
   },
   "outputs": [
    {
     "name": "stdout",
     "output_type": "stream",
     "text": [
      "Index(['Customer_comment', 'word_count'], dtype='object')\n"
     ]
    },
    {
     "data": {
      "text/html": [
       "<div>\n",
       "<style scoped>\n",
       "    .dataframe tbody tr th:only-of-type {\n",
       "        vertical-align: middle;\n",
       "    }\n",
       "\n",
       "    .dataframe tbody tr th {\n",
       "        vertical-align: top;\n",
       "    }\n",
       "\n",
       "    .dataframe thead th {\n",
       "        text-align: right;\n",
       "    }\n",
       "</style>\n",
       "<table border=\"1\" class=\"dataframe\">\n",
       "  <thead>\n",
       "    <tr style=\"text-align: right;\">\n",
       "      <th></th>\n",
       "      <th>Customer_comment</th>\n",
       "      <th>word_count</th>\n",
       "    </tr>\n",
       "  </thead>\n",
       "  <tbody>\n",
       "    <tr>\n",
       "      <th>0</th>\n",
       "      <td>Friendly employees</td>\n",
       "      <td>3</td>\n",
       "    </tr>\n",
       "    <tr>\n",
       "      <th>1</th>\n",
       "      <td>Friendly bank personnel.Good banking hours.</td>\n",
       "      <td>5</td>\n",
       "    </tr>\n",
       "    <tr>\n",
       "      <th>2</th>\n",
       "      <td>service and interest rate on cd</td>\n",
       "      <td>6</td>\n",
       "    </tr>\n",
       "  </tbody>\n",
       "</table>\n",
       "</div>"
      ],
      "text/plain": [
       "                              Customer_comment  word_count\n",
       "0                          Friendly employees            3\n",
       "1  Friendly bank personnel.Good banking hours.           5\n",
       "2              service and interest rate on cd           6"
      ]
     },
     "execution_count": 10,
     "metadata": {},
     "output_type": "execute_result"
    }
   ],
   "source": [
    "### Number of Words -The basic intuition behind this is that generally, the negative sentiments contain a lesser amount of words than the positive ones.\n",
    "\n",
    "# using apply function to create a new column \n",
    "df['word_count'] = df['Customer_comment'].apply(lambda x: len(str(x).split(\" \"))) \n",
    "\n",
    "print(df.columns)\n",
    "df.head(3)\n",
    "\n",
    "#df.describe()\n",
    "#df['reason'][:5]                   # Alternatively, df['reason'].head(5)"
   ]
  },
  {
   "cell_type": "code",
   "execution_count": null,
   "metadata": {},
   "outputs": [],
   "source": []
  },
  {
   "cell_type": "code",
   "execution_count": 14,
   "metadata": {},
   "outputs": [],
   "source": [
    "################################################################################################################################\n",
    "##### 4. Convert a column of a dataframe into a list variable"
   ]
  },
  {
   "cell_type": "code",
   "execution_count": 24,
   "metadata": {},
   "outputs": [
    {
     "ename": "KeyError",
     "evalue": "'Customer_comment'",
     "output_type": "error",
     "traceback": [
      "\u001b[1;31m---------------------------------------------------------------------------\u001b[0m",
      "\u001b[1;31mKeyError\u001b[0m                                  Traceback (most recent call last)",
      "\u001b[1;32mC:\\ProgramData\\Anaconda3\\lib\\site-packages\\pandas\\core\\indexes\\base.py\u001b[0m in \u001b[0;36mget_loc\u001b[1;34m(self, key, method, tolerance)\u001b[0m\n\u001b[0;32m   2524\u001b[0m             \u001b[1;32mtry\u001b[0m\u001b[1;33m:\u001b[0m\u001b[1;33m\u001b[0m\u001b[0m\n\u001b[1;32m-> 2525\u001b[1;33m                 \u001b[1;32mreturn\u001b[0m \u001b[0mself\u001b[0m\u001b[1;33m.\u001b[0m\u001b[0m_engine\u001b[0m\u001b[1;33m.\u001b[0m\u001b[0mget_loc\u001b[0m\u001b[1;33m(\u001b[0m\u001b[0mkey\u001b[0m\u001b[1;33m)\u001b[0m\u001b[1;33m\u001b[0m\u001b[0m\n\u001b[0m\u001b[0;32m   2526\u001b[0m             \u001b[1;32mexcept\u001b[0m \u001b[0mKeyError\u001b[0m\u001b[1;33m:\u001b[0m\u001b[1;33m\u001b[0m\u001b[0m\n",
      "\u001b[1;32mpandas/_libs/index.pyx\u001b[0m in \u001b[0;36mpandas._libs.index.IndexEngine.get_loc\u001b[1;34m()\u001b[0m\n",
      "\u001b[1;32mpandas/_libs/index.pyx\u001b[0m in \u001b[0;36mpandas._libs.index.IndexEngine.get_loc\u001b[1;34m()\u001b[0m\n",
      "\u001b[1;32mpandas/_libs/hashtable_class_helper.pxi\u001b[0m in \u001b[0;36mpandas._libs.hashtable.PyObjectHashTable.get_item\u001b[1;34m()\u001b[0m\n",
      "\u001b[1;32mpandas/_libs/hashtable_class_helper.pxi\u001b[0m in \u001b[0;36mpandas._libs.hashtable.PyObjectHashTable.get_item\u001b[1;34m()\u001b[0m\n",
      "\u001b[1;31mKeyError\u001b[0m: 'Customer_comment'",
      "\nDuring handling of the above exception, another exception occurred:\n",
      "\u001b[1;31mKeyError\u001b[0m                                  Traceback (most recent call last)",
      "\u001b[1;32m<ipython-input-24-c41e756e5ca0>\u001b[0m in \u001b[0;36m<module>\u001b[1;34m()\u001b[0m\n\u001b[0;32m      1\u001b[0m \u001b[1;31m# Convert a column of a dataframe into a list variable\u001b[0m\u001b[1;33m\u001b[0m\u001b[1;33m\u001b[0m\u001b[0m\n\u001b[1;32m----> 2\u001b[1;33m \u001b[0mlist_text\u001b[0m \u001b[1;33m=\u001b[0m \u001b[0mdf\u001b[0m\u001b[1;33m[\u001b[0m\u001b[1;34m'Customer_comment'\u001b[0m\u001b[1;33m]\u001b[0m\u001b[1;33m.\u001b[0m\u001b[0mtolist\u001b[0m\u001b[1;33m(\u001b[0m\u001b[1;33m)\u001b[0m\u001b[1;33m\u001b[0m\u001b[0m\n\u001b[0m\u001b[0;32m      3\u001b[0m \u001b[1;31m#print(list_text[:10]) # print upto 10 elements separated by ,\u001b[0m\u001b[1;33m\u001b[0m\u001b[1;33m\u001b[0m\u001b[0m\n",
      "\u001b[1;32mC:\\ProgramData\\Anaconda3\\lib\\site-packages\\pandas\\core\\frame.py\u001b[0m in \u001b[0;36m__getitem__\u001b[1;34m(self, key)\u001b[0m\n\u001b[0;32m   2137\u001b[0m             \u001b[1;32mreturn\u001b[0m \u001b[0mself\u001b[0m\u001b[1;33m.\u001b[0m\u001b[0m_getitem_multilevel\u001b[0m\u001b[1;33m(\u001b[0m\u001b[0mkey\u001b[0m\u001b[1;33m)\u001b[0m\u001b[1;33m\u001b[0m\u001b[0m\n\u001b[0;32m   2138\u001b[0m         \u001b[1;32melse\u001b[0m\u001b[1;33m:\u001b[0m\u001b[1;33m\u001b[0m\u001b[0m\n\u001b[1;32m-> 2139\u001b[1;33m             \u001b[1;32mreturn\u001b[0m \u001b[0mself\u001b[0m\u001b[1;33m.\u001b[0m\u001b[0m_getitem_column\u001b[0m\u001b[1;33m(\u001b[0m\u001b[0mkey\u001b[0m\u001b[1;33m)\u001b[0m\u001b[1;33m\u001b[0m\u001b[0m\n\u001b[0m\u001b[0;32m   2140\u001b[0m \u001b[1;33m\u001b[0m\u001b[0m\n\u001b[0;32m   2141\u001b[0m     \u001b[1;32mdef\u001b[0m \u001b[0m_getitem_column\u001b[0m\u001b[1;33m(\u001b[0m\u001b[0mself\u001b[0m\u001b[1;33m,\u001b[0m \u001b[0mkey\u001b[0m\u001b[1;33m)\u001b[0m\u001b[1;33m:\u001b[0m\u001b[1;33m\u001b[0m\u001b[0m\n",
      "\u001b[1;32mC:\\ProgramData\\Anaconda3\\lib\\site-packages\\pandas\\core\\frame.py\u001b[0m in \u001b[0;36m_getitem_column\u001b[1;34m(self, key)\u001b[0m\n\u001b[0;32m   2144\u001b[0m         \u001b[1;31m# get column\u001b[0m\u001b[1;33m\u001b[0m\u001b[1;33m\u001b[0m\u001b[0m\n\u001b[0;32m   2145\u001b[0m         \u001b[1;32mif\u001b[0m \u001b[0mself\u001b[0m\u001b[1;33m.\u001b[0m\u001b[0mcolumns\u001b[0m\u001b[1;33m.\u001b[0m\u001b[0mis_unique\u001b[0m\u001b[1;33m:\u001b[0m\u001b[1;33m\u001b[0m\u001b[0m\n\u001b[1;32m-> 2146\u001b[1;33m             \u001b[1;32mreturn\u001b[0m \u001b[0mself\u001b[0m\u001b[1;33m.\u001b[0m\u001b[0m_get_item_cache\u001b[0m\u001b[1;33m(\u001b[0m\u001b[0mkey\u001b[0m\u001b[1;33m)\u001b[0m\u001b[1;33m\u001b[0m\u001b[0m\n\u001b[0m\u001b[0;32m   2147\u001b[0m \u001b[1;33m\u001b[0m\u001b[0m\n\u001b[0;32m   2148\u001b[0m         \u001b[1;31m# duplicate columns & possible reduce dimensionality\u001b[0m\u001b[1;33m\u001b[0m\u001b[1;33m\u001b[0m\u001b[0m\n",
      "\u001b[1;32mC:\\ProgramData\\Anaconda3\\lib\\site-packages\\pandas\\core\\generic.py\u001b[0m in \u001b[0;36m_get_item_cache\u001b[1;34m(self, item)\u001b[0m\n\u001b[0;32m   1840\u001b[0m         \u001b[0mres\u001b[0m \u001b[1;33m=\u001b[0m \u001b[0mcache\u001b[0m\u001b[1;33m.\u001b[0m\u001b[0mget\u001b[0m\u001b[1;33m(\u001b[0m\u001b[0mitem\u001b[0m\u001b[1;33m)\u001b[0m\u001b[1;33m\u001b[0m\u001b[0m\n\u001b[0;32m   1841\u001b[0m         \u001b[1;32mif\u001b[0m \u001b[0mres\u001b[0m \u001b[1;32mis\u001b[0m \u001b[1;32mNone\u001b[0m\u001b[1;33m:\u001b[0m\u001b[1;33m\u001b[0m\u001b[0m\n\u001b[1;32m-> 1842\u001b[1;33m             \u001b[0mvalues\u001b[0m \u001b[1;33m=\u001b[0m \u001b[0mself\u001b[0m\u001b[1;33m.\u001b[0m\u001b[0m_data\u001b[0m\u001b[1;33m.\u001b[0m\u001b[0mget\u001b[0m\u001b[1;33m(\u001b[0m\u001b[0mitem\u001b[0m\u001b[1;33m)\u001b[0m\u001b[1;33m\u001b[0m\u001b[0m\n\u001b[0m\u001b[0;32m   1843\u001b[0m             \u001b[0mres\u001b[0m \u001b[1;33m=\u001b[0m \u001b[0mself\u001b[0m\u001b[1;33m.\u001b[0m\u001b[0m_box_item_values\u001b[0m\u001b[1;33m(\u001b[0m\u001b[0mitem\u001b[0m\u001b[1;33m,\u001b[0m \u001b[0mvalues\u001b[0m\u001b[1;33m)\u001b[0m\u001b[1;33m\u001b[0m\u001b[0m\n\u001b[0;32m   1844\u001b[0m             \u001b[0mcache\u001b[0m\u001b[1;33m[\u001b[0m\u001b[0mitem\u001b[0m\u001b[1;33m]\u001b[0m \u001b[1;33m=\u001b[0m \u001b[0mres\u001b[0m\u001b[1;33m\u001b[0m\u001b[0m\n",
      "\u001b[1;32mC:\\ProgramData\\Anaconda3\\lib\\site-packages\\pandas\\core\\internals.py\u001b[0m in \u001b[0;36mget\u001b[1;34m(self, item, fastpath)\u001b[0m\n\u001b[0;32m   3841\u001b[0m \u001b[1;33m\u001b[0m\u001b[0m\n\u001b[0;32m   3842\u001b[0m             \u001b[1;32mif\u001b[0m \u001b[1;32mnot\u001b[0m \u001b[0misna\u001b[0m\u001b[1;33m(\u001b[0m\u001b[0mitem\u001b[0m\u001b[1;33m)\u001b[0m\u001b[1;33m:\u001b[0m\u001b[1;33m\u001b[0m\u001b[0m\n\u001b[1;32m-> 3843\u001b[1;33m                 \u001b[0mloc\u001b[0m \u001b[1;33m=\u001b[0m \u001b[0mself\u001b[0m\u001b[1;33m.\u001b[0m\u001b[0mitems\u001b[0m\u001b[1;33m.\u001b[0m\u001b[0mget_loc\u001b[0m\u001b[1;33m(\u001b[0m\u001b[0mitem\u001b[0m\u001b[1;33m)\u001b[0m\u001b[1;33m\u001b[0m\u001b[0m\n\u001b[0m\u001b[0;32m   3844\u001b[0m             \u001b[1;32melse\u001b[0m\u001b[1;33m:\u001b[0m\u001b[1;33m\u001b[0m\u001b[0m\n\u001b[0;32m   3845\u001b[0m                 \u001b[0mindexer\u001b[0m \u001b[1;33m=\u001b[0m \u001b[0mnp\u001b[0m\u001b[1;33m.\u001b[0m\u001b[0marange\u001b[0m\u001b[1;33m(\u001b[0m\u001b[0mlen\u001b[0m\u001b[1;33m(\u001b[0m\u001b[0mself\u001b[0m\u001b[1;33m.\u001b[0m\u001b[0mitems\u001b[0m\u001b[1;33m)\u001b[0m\u001b[1;33m)\u001b[0m\u001b[1;33m[\u001b[0m\u001b[0misna\u001b[0m\u001b[1;33m(\u001b[0m\u001b[0mself\u001b[0m\u001b[1;33m.\u001b[0m\u001b[0mitems\u001b[0m\u001b[1;33m)\u001b[0m\u001b[1;33m]\u001b[0m\u001b[1;33m\u001b[0m\u001b[0m\n",
      "\u001b[1;32mC:\\ProgramData\\Anaconda3\\lib\\site-packages\\pandas\\core\\indexes\\base.py\u001b[0m in \u001b[0;36mget_loc\u001b[1;34m(self, key, method, tolerance)\u001b[0m\n\u001b[0;32m   2525\u001b[0m                 \u001b[1;32mreturn\u001b[0m \u001b[0mself\u001b[0m\u001b[1;33m.\u001b[0m\u001b[0m_engine\u001b[0m\u001b[1;33m.\u001b[0m\u001b[0mget_loc\u001b[0m\u001b[1;33m(\u001b[0m\u001b[0mkey\u001b[0m\u001b[1;33m)\u001b[0m\u001b[1;33m\u001b[0m\u001b[0m\n\u001b[0;32m   2526\u001b[0m             \u001b[1;32mexcept\u001b[0m \u001b[0mKeyError\u001b[0m\u001b[1;33m:\u001b[0m\u001b[1;33m\u001b[0m\u001b[0m\n\u001b[1;32m-> 2527\u001b[1;33m                 \u001b[1;32mreturn\u001b[0m \u001b[0mself\u001b[0m\u001b[1;33m.\u001b[0m\u001b[0m_engine\u001b[0m\u001b[1;33m.\u001b[0m\u001b[0mget_loc\u001b[0m\u001b[1;33m(\u001b[0m\u001b[0mself\u001b[0m\u001b[1;33m.\u001b[0m\u001b[0m_maybe_cast_indexer\u001b[0m\u001b[1;33m(\u001b[0m\u001b[0mkey\u001b[0m\u001b[1;33m)\u001b[0m\u001b[1;33m)\u001b[0m\u001b[1;33m\u001b[0m\u001b[0m\n\u001b[0m\u001b[0;32m   2528\u001b[0m \u001b[1;33m\u001b[0m\u001b[0m\n\u001b[0;32m   2529\u001b[0m         \u001b[0mindexer\u001b[0m \u001b[1;33m=\u001b[0m \u001b[0mself\u001b[0m\u001b[1;33m.\u001b[0m\u001b[0mget_indexer\u001b[0m\u001b[1;33m(\u001b[0m\u001b[1;33m[\u001b[0m\u001b[0mkey\u001b[0m\u001b[1;33m]\u001b[0m\u001b[1;33m,\u001b[0m \u001b[0mmethod\u001b[0m\u001b[1;33m=\u001b[0m\u001b[0mmethod\u001b[0m\u001b[1;33m,\u001b[0m \u001b[0mtolerance\u001b[0m\u001b[1;33m=\u001b[0m\u001b[0mtolerance\u001b[0m\u001b[1;33m)\u001b[0m\u001b[1;33m\u001b[0m\u001b[0m\n",
      "\u001b[1;32mpandas/_libs/index.pyx\u001b[0m in \u001b[0;36mpandas._libs.index.IndexEngine.get_loc\u001b[1;34m()\u001b[0m\n",
      "\u001b[1;32mpandas/_libs/index.pyx\u001b[0m in \u001b[0;36mpandas._libs.index.IndexEngine.get_loc\u001b[1;34m()\u001b[0m\n",
      "\u001b[1;32mpandas/_libs/hashtable_class_helper.pxi\u001b[0m in \u001b[0;36mpandas._libs.hashtable.PyObjectHashTable.get_item\u001b[1;34m()\u001b[0m\n",
      "\u001b[1;32mpandas/_libs/hashtable_class_helper.pxi\u001b[0m in \u001b[0;36mpandas._libs.hashtable.PyObjectHashTable.get_item\u001b[1;34m()\u001b[0m\n",
      "\u001b[1;31mKeyError\u001b[0m: 'Customer_comment'"
     ]
    }
   ],
   "source": [
    "# Convert a column of a dataframe into a list variable\n",
    "list_text = df['Customer_comment'].tolist()\n",
    "#print(list_text[:10]) # print upto 10 elements separated by ,"
   ]
  },
  {
   "cell_type": "code",
   "execution_count": 12,
   "metadata": {},
   "outputs": [
    {
     "name": "stdout",
     "output_type": "stream",
     "text": [
      "Friendly employees Friendly bank personnel.Good banking hours.service and interest rate on cdfriendly staff and very accommodatingNo problems with my accounts.Even when my information was compromised.Excellent service Friendly and knowledgeable employees.convience of many locations for bankingfriendly helpful workers, usually can talk to a person about issuesConvenient Wonderful service. Friendly serviceReal friendly service and convenient. the online banking website stinksGreat customer service experience every time Lack of tellers, on site personnel Staff are friendly and helpful.When you call them they respond to your concerns or complaints positively.Not having a business option for pay appAlways friendly staff but lines are sometimes longer than expectedCustomer service and knowledge of the non-profit status of the organizationCustomer serviceService on the bank by the clercksBig enough to do sizable deals. Customer servicestaff is excellent!Helping me with any problems I had with\n"
     ]
    }
   ],
   "source": [
    "# Convert the list into string type\n",
    "str_text =''.join(list_text)\n",
    "print(str_text[:1000])  # print upto 500 letters"
   ]
  },
  {
   "cell_type": "code",
   "execution_count": 13,
   "metadata": {},
   "outputs": [
    {
     "name": "stdout",
     "output_type": "stream",
     "text": [
      "friendly employees friendly bank personnelgood banking hoursservice and interest rate on cdfriendly staff and very accommodatingno problems with my accountseven when my information was compromisedexcellent service friendly and knowledgeable employeesconvience of many locations for bankingfriendly helpful workers usually can talk to person about issuesconvenient wonderful service friendly servicereal friendly service and convenient the online banking website stinksgreat customer service experience every time lack of tellers on site personnel staff are friendly and helpfulwhen you call them they respond to your concerns or complaints positivelynot having business option for pay appalways friendly staff but lines are sometimes longer than expectedcustomer service and knowledge of the non profit status of the organizationcustomer serviceservice on the bank by the clercksbig enough to do sizable deals customer servicestaff is excellent helping me with any problems had with the bmo online ba\n",
      "['friend', 'employe', 'friend', 'personnelgood', 'hoursservic', 'interest', 'rate', 'cdfriend', 'staff', 'veri', 'accommodatingno', 'problem', 'accountseven', 'inform', 'compromisedexcel', 'servic', 'friend', 'knowledg', 'employeesconvi', 'mani', 'locat', 'bankingfriend', 'help', 'worker', 'usual', 'talk', 'person', 'issuesconveni', 'wonder', 'servic', 'friend', 'servicer', 'friend', 'servic', 'conveni', 'onlin', 'websit', 'stinksgreat', 'custom', 'servic', 'experi', 'everi', 'time', 'lack', 'teller', 'site', 'personnel', 'staff', 'friend', 'helpfulwhen', 'respond', 'concern', 'complaint', 'positivelynot', 'busi', 'option', 'pay', 'appalway', 'friend', 'staff', 'line', 'sometim', 'longer', 'expectedcustom', 'servic', 'knowledg', 'non', 'profit', 'status', 'organizationcustom', 'serviceservic', 'clercksbig', 'enough', 'sizabl', 'deal', 'custom', 'servicestaff', 'excel', 'help', 'ani', 'problem', 'onlin', 'sitecustom', 'servicelack', 'support', 'start', 'busi', 'whose', 'client', 'extend', 'period', 'timeth', 'profession', 'staff', 'eas', 'deal', 'themloc', 'branch', 'peopl', 'awesomecustom']\n"
     ]
    },
    {
     "data": {
      "text/plain": [
       "'\\n################################################################################################################################\\n# Bag of Words - (BoW) refers to the representation of text which describes the presence of words within the text data. \\n#  The intuition behind this is that two similar text fields will contain similar kind of words, \\n# and will therefore have a similar bag of words. \\n# Further, that from the text alone we can learn something about the meaning of the document.\\n\\n#For implementation, sklearn provides a separate function for it as shown below:\\n\\nfrom sklearn.feature_extraction.text import CountVectorizer\\nbow = CountVectorizer(max_features=1000, lowercase=True, ngram_range=(1,1),analyzer = \"word\")\\n#df_bow = bow.fit_transform(df[\\'reason\\'])\\ndf_bow = bow.fit_transform(word_list)\\ndf_bow[1:19]\\n#type(df_bow)\\n#> <31962x1000 sparse matrix of type \\'<class \\'numpy.int64\\'>\\'\\n# with 128380 stored elements in Compressed Sparse Row format>\\n'"
      ]
     },
     "execution_count": 13,
     "metadata": {},
     "output_type": "execute_result"
    }
   ],
   "source": [
    "################################################################################################################################\n",
    "##### 5. Preprocess text or text string\n",
    "\n",
    "import re     \n",
    "\n",
    "# Make words lower-case\n",
    "str_text = str_text.lower()                        \n",
    "#print(str_text[10:1000])\n",
    "\n",
    "## Remove numbers\n",
    "str_text = re.sub(r'\\d+','',str_text)    #str_text = ''.join(c for c in str_text if not c.isdigit())  # Remove numbers\n",
    "\n",
    "\"\"\"\n",
    "# Remove number of numerics\n",
    "df['numerics'] = df['reason'].apply(lambda x: len([x for x in x.split() if x.isdigit()]))\n",
    "df[['problem','numerics']].head()\n",
    "\"\"\"\n",
    "\n",
    "# Remove brackets (if any) and anything inside it\n",
    "#str_text = re.sub(\"[\\[].*?[\\]]\", \"\", str_text)        \n",
    "\n",
    "# Remove special characters except spaces and dots\n",
    "str_text = re.sub(r\"[^a-zA-Z0-9.]+\", ' ', str_text)   \n",
    "#str_text = re.sub(r'\\W', ' ', str_text)                ## Remove all the special characters\n",
    "\n",
    "## Removing html tags from the text like “<head><body>”\n",
    "#str_text = re.sub('<[^<]+?>','', str_text)            \n",
    "\n",
    "# remove all single characters\n",
    "str_text = re.sub(r'\\s+[a-zA-Z]\\s+', ' ', str_text)    \n",
    "#str_text = re.sub(r'\\^[a-zA-Z]\\s+', ' ', str_text)     ## Remove single characters from the start\n",
    "\n",
    "# Substituting multiple spaces with single space\n",
    "str_text = re.sub(r'\\s+', ' ', str_text, flags=re.I)   \n",
    "\n",
    "#str_text = re.sub(r'^b\\s+', '', str_text)              ## Removing prefixed 'b'             \n",
    "\n",
    "# Remove punctuation from the text like “.?!” and also the symbols like “@#$”\n",
    "from string import punctuation                  \n",
    "\n",
    "def strip_punctuation(str_text):\n",
    "    return ''.join(c for c in str_text if c not in punctuation)\n",
    "\n",
    "str_text = strip_punctuation(str_text)\n",
    "\n",
    "print(str_text[:1000])\n",
    "\n",
    "\n",
    "\"\"\"\n",
    "# Spelling correction using the textblob library - enable  us to reduce multiple copies of words though time-consuming\n",
    "\n",
    "from textblob import TextBlob\n",
    "str_text = TextBlob(str_text)\n",
    "str_text.correct()\n",
    "print(str_text[:1000])\n",
    "\"\"\"\n",
    "\n",
    "\n",
    "##### Apply stopwords - Remove irrelevant words using nltk stop words from the sentences as they don’t carry any information.\n",
    "import nltk\n",
    "from nltk.corpus import stopwords\n",
    "from nltk.stem import WordNetLemmatizer        #is based on The Porter Stemming Algorithm\n",
    "from nltk.tokenize import word_tokenize\n",
    "from nltk.stem import SnowballStemmer             #is based on The Porter Stemming Algorithm\n",
    "\n",
    "from textblob import TextBlob\n",
    "#from autocorrect import spell                 #spell check\n",
    "\n",
    "\n",
    "stop_words = set(stopwords.words('english'))  #print(type(stop_words)): set\n",
    "## remove additional words by using the attribute   .update([]) from the document\n",
    "stop_words.update(['nan','also','get','please','go','mos','fully','anyone','every','told','nd','getting','wa','bmo','dont',\n",
    "                  'account','bank','call','ha','back'])\n",
    "\n",
    "wordnet_lemmatizer = WordNetLemmatizer()        #lemmatizing so as to get its root form eg: functions,funtionality as function\n",
    "snowball_stemmer = SnowballStemmer('english')   #stemming\n",
    "\n",
    "# Tokenizing words by breanking the sentences into a list of words - alternatively, listed_text = str_text.split(\" \")  \n",
    "word_tokens = nltk.word_tokenize(str_text)         \n",
    "\n",
    "#lemmatizing\n",
    "word_tokens_lem= [wordnet_lemmatizer.lemmatize(word) for word in word_tokens]  \n",
    "\n",
    "#stemming\n",
    "word_tokens_stem= [snowball_stemmer.stem(word) for word in word_tokens_lem]   \n",
    "word_list = [w for w in word_tokens_stem if not w in stop_words]\n",
    "print(word_list[:100])\n",
    "\n",
    "\n",
    "\"\"\"\n",
    "# To display all unique words in the text: Bag of Words\n",
    "vocab_bow = freqDist.keys()\n",
    "print(len(vocab_bow))\n",
    "print(vocab_bow)\n",
    "\"\"\"\n",
    "\n",
    "\"\"\"\n",
    "################################################################################################################################\n",
    "# Bag of Words - (BoW) refers to the representation of text which describes the presence of words within the text data. \n",
    "#  The intuition behind this is that two similar text fields will contain similar kind of words, \n",
    "# and will therefore have a similar bag of words. \n",
    "# Further, that from the text alone we can learn something about the meaning of the document.\n",
    "\n",
    "#For implementation, sklearn provides a separate function for it as shown below:\n",
    "\n",
    "from sklearn.feature_extraction.text import CountVectorizer\n",
    "bow = CountVectorizer(max_features=1000, lowercase=True, ngram_range=(1,1),analyzer = \"word\")\n",
    "#df_bow = bow.fit_transform(df['reason'])\n",
    "df_bow = bow.fit_transform(word_list)\n",
    "df_bow[1:19]\n",
    "#type(df_bow)\n",
    "#> <31962x1000 sparse matrix of type '<class 'numpy.int64'>'\n",
    "# with 128380 stored elements in Compressed Sparse Row format>\n",
    "\"\"\""
   ]
  },
  {
   "cell_type": "code",
   "execution_count": null,
   "metadata": {},
   "outputs": [],
   "source": []
  },
  {
   "cell_type": "code",
   "execution_count": 14,
   "metadata": {},
   "outputs": [
    {
     "name": "stdout",
     "output_type": "stream",
     "text": [
      "<FreqDist with 226 samples and 311 outcomes>\n",
      "Absolute Frequency Count of Word:\n",
      "\n",
      "            friend             servic              staff              onlin             experi               time               veri            problem           knowledg               mani               help             person             custom               busi               line               deal            support               like               last              month               year              locat               lack            concern             enough             sizabl              start              whose             client             extend             period         profession              peopl              offic           transact                old              could               date               give             realli                use              charg               mail                abl          difficult                one              never            employe      personnelgood        hoursservic           interest               rate           cdfriend    accommodatingno       accountseven             inform   compromisedexcel     employeesconvi      bankingfriend             worker              usual               talk      issuesconveni             wonder           servicer            conveni             websit        stinksgreat              everi             teller               site          personnel        helpfulwhen            respond          complaint      positivelynot             option                pay           appalway            sometim             longer     expectedcustom                non             profit             status organizationcustom      serviceservic         clercksbig       servicestaff              excel                ani         sitecustom        servicelack             timeth                eas            themloc             branch      awesomecustom               poor       servicealway \n",
      "                 9                  9                  5                  4                  4                  4                  3                  3                  3                  3                  3                  3                  3                  3                  3                  3                  3                  3                  3                  3                  3                  2                  2                  2                  2                  2                  2                  2                  2                  2                  2                  2                  2                  2                  2                  2                  2                  2                  2                  2                  2                  2                  2                  2                  2                  2                  2                  1                  1                  1                  1                  1                  1                  1                  1                  1                  1                  1                  1                  1                  1                  1                  1                  1                  1                  1                  1                  1                  1                  1                  1                  1                  1                  1                  1                  1                  1                  1                  1                  1                  1                  1                  1                  1                  1                  1                  1                  1                  1                  1                  1                  1                  1                  1                  1                  1                  1                  1                  1                  1 \n",
      "None\n",
      "Absolute Frequency Count of Word: servic              9\n",
      "friend              9\n",
      "staff               5\n",
      "onlin               4\n",
      "time                4\n",
      "experi              4\n",
      "support             3\n",
      "last                3\n",
      "like                3\n",
      "deal                3\n",
      "knowledg            3\n",
      "year                3\n",
      "custom              3\n",
      "mani                3\n",
      "person              3\n",
      "problem             3\n",
      "help                3\n",
      "veri                3\n",
      "month               3\n",
      "busi                3\n",
      "line                3\n",
      "concern             2\n",
      "sizabl              2\n",
      "offic               2\n",
      "client              2\n",
      "charg               2\n",
      "realli              2\n",
      "difficult           2\n",
      "transact            2\n",
      "whose               2\n",
      "                   ..\n",
      "potenti             1\n",
      "statement           1\n",
      "negat               1\n",
      "awesomecustom       1\n",
      "big                 1\n",
      "day                 1\n",
      "sometimesyou        1\n",
      "rep                 1\n",
      "servicemediocr      1\n",
      "personnel           1\n",
      "clercksbig          1\n",
      "chang               1\n",
      "system              1\n",
      "cut                 1\n",
      "pick                1\n",
      "poor                1\n",
      "vagu                1\n",
      "better              1\n",
      "june                1\n",
      "datei               1\n",
      "protect             1\n",
      "servicestaff        1\n",
      "compromisedexcel    1\n",
      "largest             1\n",
      "sort                1\n",
      "push                1\n",
      "teller              1\n",
      "accountsno          1\n",
      "conveni             1\n",
      "wonder              1\n",
      "Length: 226, dtype: int64\n",
      "Length of word_list: 311\n",
      "               0         1\n",
      "servic         9  0.028939\n",
      "friend         9  0.028939\n",
      "staff          5  0.016077\n",
      "onlin          4  0.012862\n",
      "time           4  0.012862\n",
      "experi         4  0.012862\n",
      "support        3  0.009646\n",
      "last           3  0.009646\n",
      "like           3  0.009646\n",
      "deal           3  0.009646\n",
      "knowledg       3  0.009646\n",
      "year           3  0.009646\n",
      "custom         3  0.009646\n",
      "mani           3  0.009646\n",
      "person         3  0.009646\n",
      "problem        3  0.009646\n",
      "help           3  0.009646\n",
      "veri           3  0.009646\n",
      "month          3  0.009646\n",
      "busi           3  0.009646\n",
      "line           3  0.009646\n",
      "concern        2  0.006431\n",
      "sizabl         2  0.006431\n",
      "offic          2  0.006431\n",
      "client         2  0.006431\n",
      "charg          2  0.006431\n",
      "realli         2  0.006431\n",
      "difficult      2  0.006431\n",
      "transact       2  0.006431\n",
      "whose          2  0.006431\n",
      "...           ..       ...\n",
      "offeringsmi    1  0.003215\n",
      "bankingfriend  1  0.003215\n",
      "ratingbad      1  0.003215\n",
      "servicealway   1  0.003215\n",
      "polici         1  0.003215\n",
      "employe        1  0.003215\n",
      "appear         1  0.003215\n",
      "site           1  0.003215\n",
      "occur          1  0.003215\n",
      "debit          1  0.003215\n",
      "seem           1  0.003215\n",
      "phone          1  0.003215\n",
      "talk           1  0.003215\n",
      "appalway       1  0.003215\n",
      "greatexpens    1  0.003215\n",
      "servicelack    1  0.003215\n",
      "hope           1  0.003215\n",
      "make           1  0.003215\n",
      "without        1  0.003215\n",
      "doe            1  0.003215\n",
      "boworrow       1  0.003215\n",
      "know           1  0.003215\n",
      "ask            1  0.003215\n",
      "cd             1  0.003215\n",
      "hack           1  0.003215\n",
      "awesom         1  0.003215\n",
      "ok             1  0.003215\n",
      "digit          1  0.003215\n",
      "alway          1  0.003215\n",
      "respond        1  0.003215\n",
      "\n",
      "[100 rows x 2 columns]\n"
     ]
    }
   ],
   "source": [
    "################################################################################################################################\n",
    "##### 6. Frequency count of each unique word in the text document (string)\n",
    "\n",
    "##### (1) Absolute Frequency Count of each unique word - record the frequency of each word type in a text document (string) tokenized. \n",
    "from nltk import FreqDist\n",
    "fd = nltk.FreqDist(word_list) #FreqDist with 3493 samples and 20527 outcomes>\n",
    "print(fd)\n",
    "\n",
    "freqDist = FreqDist(word_list)\n",
    "print('Absolute Frequency Count of Word:\\n')\n",
    "print(freqDist.tabulate(100))  #freqDist.freq            #<class 'NoneType'>  \n",
    "\n",
    "# Alternative way of generating absoute frequency count of word: c = Counter(word_list)\n",
    "\n",
    "\n",
    "import pandas as pd \n",
    "# Create Data Frame using pandas library. .value_counts() counts the number of occurrences of particular word or observation .\n",
    "afc=pd.Series(word_list).value_counts() #afc[:100]\n",
    "\n",
    "print('Absolute Frequency Count of Word:',afc) #afc[:100])\n",
    "print('Length of word_list:',len(word_list))\n",
    "\n",
    "##### (2) Relative Frequency Count of Word\n",
    "import pandas as pd \n",
    "rfc=pd.Series(word_list).value_counts() / len(word_list)\n",
    "\n",
    "# Merge two series using pandas. concat()\n",
    "df_f = pd.concat([afc,rfc], axis=1) #merge `a_series` and `another_series`\n",
    "print(df_f.head(100))\n"
   ]
  },
  {
   "cell_type": "code",
   "execution_count": 16,
   "metadata": {},
   "outputs": [
    {
     "data": {
      "image/png": "[encoded data removed]",
      "text/plain": [
       "<matplotlib.figure.Figure at 0x1978c160>"
      ]
     },
     "metadata": {},
     "output_type": "display_data"
    }
   ],
   "source": [
    "# Plotting the frequency count of words\n",
    "freqDist = FreqDist(word_list)\n",
    "freqDist.plot(100)    \n"
   ]
  },
  {
   "cell_type": "code",
   "execution_count": 58,
   "metadata": {},
   "outputs": [
    {
     "data": {
      "text/plain": [
       "\"\\nfrom textblob import TextBlob\\n\\n# TO find out how many times a particular word is mentioned in the text:\\ncustomercomments = TextBlob(str_text)\\n#print(customercomments.words.count('customer'))\\nprint(customercomments.words.count('account', case_sensitive=False))\\n\""
      ]
     },
     "execution_count": 58,
     "metadata": {},
     "output_type": "execute_result"
    }
   ],
   "source": [
    "\"\"\"\n",
    "from textblob import TextBlob\n",
    "\n",
    "# TO find out how many times a particular word is mentioned in the text:\n",
    "customercomments = TextBlob(str_text)\n",
    "#print(customercomments.words.count('customer'))\n",
    "print(customercomments.words.count('account', case_sensitive=False))\n",
    "\"\"\""
   ]
  },
  {
   "cell_type": "code",
   "execution_count": 20,
   "metadata": {},
   "outputs": [],
   "source": [
    "text=str_text"
   ]
  },
  {
   "cell_type": "code",
   "execution_count": 21,
   "metadata": {
    "scrolled": true
   },
   "outputs": [
    {
     "name": "stdout",
     "output_type": "stream",
     "text": [
      "word_association_output:\n",
      "              Word 1           Word 2  Association Strength (Word 1 -> Word 2)\n",
      "5237         profit              cut                                      1.0\n",
      "12249         loani           chosen                                      1.0\n",
      "6262   sitecustomer  professionalism                                      1.0\n",
      "6261   sitecustomer          timethe                                      1.0\n",
      "6260   sitecustomer           period                                      1.0\n",
      "6259   sitecustomer            start                                      1.0\n",
      "6258   sitecustomer          support                                      1.0\n",
      "6257   sitecustomer      servicelack                                      1.0\n",
      "12241         loani              use                                      1.0\n",
      "12242         loani          awesome                                      1.0\n",
      "12243         loani        ratingbad                                      1.0\n",
      "12244         loani           charge                                      1.0\n",
      "12245         loani           reason                                      1.0\n",
      "12246         loani           method                                      1.0\n",
      "12247         loani           yearsi                                      1.0\n",
      "12248         loani            print                                      1.0\n",
      "17137          oopm        numbernot                                      1.0\n",
      "6264   sitecustomer           branch                                      1.0\n",
      "17138          oopm           mobile                                      1.0\n",
      "17139          oopm     depositnever                                      1.0\n",
      "17140          oopm              rep                                      1.0\n",
      "17141          oopm           methey                                      1.0\n",
      "17142          oopm          dispute                                      1.0\n",
      "17143          oopm             clue                                      1.0\n",
      "17144          oopm         multiple                                      1.0\n",
      "12250         loani            datei                                      1.0\n",
      "12251         loani      statementsi                                      1.0\n",
      "12252         loani             hope                                      1.0\n",
      "12253         loani        refinance                                      1.0\n",
      "12254         loani    heredifficult                                      1.0\n",
      "...             ...              ...                                      ...\n",
      "6300   sitecustomer            loani                                      1.0\n",
      "6465    servicelack   greatexpensive                                      1.0\n",
      "6479    servicelack         multiple                                      1.0\n",
      "6478    servicelack             clue                                      1.0\n",
      "6477    servicelack          dispute                                      1.0\n",
      "6476    servicelack           methey                                      1.0\n",
      "6475    servicelack              rep                                      1.0\n",
      "6474    servicelack     depositnever                                      1.0\n",
      "6473    servicelack           mobile                                      1.0\n",
      "6472    servicelack        numbernot                                      1.0\n",
      "6471    servicelack             oopm                                      1.0\n",
      "6470    servicelack             june                                      1.0\n",
      "6469    servicelack            today                                      1.0\n",
      "6468    servicelack      offeringsmy                                      1.0\n",
      "6467    servicelack  servicemediocre                                      1.0\n",
      "6466    servicelack    perkscustomer                                      1.0\n",
      "6464    servicelack          nothing                                      1.0\n",
      "6449    servicelack    heredifficult                                      1.0\n",
      "6463    servicelack               ok                                      1.0\n",
      "6462    servicelack             year                                      1.0\n",
      "6461    servicelack          digital                                      1.0\n",
      "6460    servicelack          explain                                      1.0\n",
      "6459    servicelack           banker                                      1.0\n",
      "6458    servicelack           answer                                      1.0\n",
      "6457    servicelack             sort                                      1.0\n",
      "6456    servicelack            phone                                      1.0\n",
      "6455    servicelack              lot                                      1.0\n",
      "6454    servicelack          company                                      1.0\n",
      "6453    servicelack           youthe                                      1.0\n",
      "6452    servicelack              cut                                      1.0\n",
      "\n",
      "[200 rows x 3 columns]\n"
     ]
    }
   ],
   "source": [
    "################################################################################################################################\n",
    "##### 7. Word association using text document (string) - working on 2/28\n",
    "\n",
    "import re\n",
    "\n",
    "from nltk.corpus import stopwords\n",
    "import nltk\n",
    "\n",
    "stop_words = stopwords.words('english')\n",
    "\n",
    "desirable_tags = ['NN'] # We want only nouns - can also add 'NNP', 'NNS', 'NNPS' if needed, depending on the results\n",
    "\n",
    "word_list = []\n",
    "\n",
    "for sent in text.split('.'):\n",
    "    for word in sent.split():\n",
    "        '''\n",
    "        Extract the unique, non-stopword nouns only\n",
    "        '''\n",
    "        if word not in word_list and word not in stop_words and nltk.pos_tag([word])[0][1] in desirable_tags:\n",
    "            word_list.append(word)\n",
    "\n",
    "\n",
    "\n",
    "'''\n",
    "Construct the association matrix, where we count 2 words as being associated if they appear in the same sentence.\n",
    "\n",
    "Later, I'm going to define associations more properly by introducing a \n",
    "window size (say, if 2 words seperated by at most 5 words in a sentence, \n",
    "then we consider them to be associated)\n",
    "'''\n",
    "\n",
    "import numpy as np\n",
    "import pandas as pd\n",
    "\n",
    "table = np.zeros((len(word_list),len(word_list)), dtype=int)\n",
    "\n",
    "for sent in text.split('.'):\n",
    "    for i in range(len(word_list)):\n",
    "        for j in range(len(word_list)):\n",
    "            if word_list[i] in sent and word_list[j] in sent:\n",
    "                table[i,j]+=1\n",
    "\n",
    "df = pd.DataFrame(table, columns=word_list, index=word_list)\n",
    "\n",
    "\n",
    "\n",
    "### Count the number of occurrences of each word in word_list\n",
    "\n",
    "all_words = pd.DataFrame(np.zeros((len(df), 2)), columns=['Word', 'Count'])\n",
    "all_words.Word = df.index\n",
    "\n",
    "for sent in text.split('.'):\n",
    "    count=0\n",
    "    for word in sent.split():\n",
    "        if word in word_list:\n",
    "            all_words.loc[all_words.Word==word,'Count'] += 1\n",
    "\n",
    "\n",
    "\n",
    "### Sort the word pairs in decreasing order of their association strengths\n",
    "\n",
    "df.values[np.triu_indices_from(df, 0)] = 0 # Make the upper triangle values 0\n",
    "\n",
    "assoc_df = pd.DataFrame(columns=['Word 1', 'Word 2', 'Association Strength (Word 1 -> Word 2)'])\n",
    "for row_word in df:\n",
    "    for col_word in df:\n",
    "        '''\n",
    "        If Word1 occurs 10 times in the text, and Word1 & Word2 occur in the same sentence 3 times,\n",
    "        the association strength of Word1 and Word2 is 3/10 - Please correct me if this is wrong.\n",
    "        '''\n",
    "        assoc_df = assoc_df.append({'Word 1': row_word, 'Word 2': col_word, \n",
    "                                        'Association Strength (Word 1 -> Word 2)': df[row_word][col_word]/all_words[all_words.Word==row_word]['Count'].values[0]}, ignore_index=True)\n",
    "\n",
    "\n",
    "word_association_output = assoc_df.sort_values(by='Association Strength (Word 1 -> Word 2)', ascending=False)\n",
    "print('word_association_output:\\n',word_association_output[:200])"
   ]
  },
  {
   "cell_type": "code",
   "execution_count": null,
   "metadata": {},
   "outputs": [],
   "source": []
  },
  {
   "cell_type": "code",
   "execution_count": 22,
   "metadata": {},
   "outputs": [
    {
     "name": "stdout",
     "output_type": "stream",
     "text": [
      "Bigrams:\n",
      " [WordList(['friendly', 'employees']), WordList(['employees', 'friendly']), WordList(['friendly', 'bank']), WordList(['bank', 'personnelgood']), WordList(['personnelgood', 'banking']), WordList(['banking', 'hoursservice']), WordList(['hoursservice', 'and']), WordList(['and', 'interest']), WordList(['interest', 'rate']), WordList(['rate', 'on'])]\n",
      "Trigrams:\n",
      " [WordList(['friendly', 'employees', 'friendly']), WordList(['employees', 'friendly', 'bank']), WordList(['friendly', 'bank', 'personnelgood']), WordList(['bank', 'personnelgood', 'banking']), WordList(['personnelgood', 'banking', 'hoursservice']), WordList(['banking', 'hoursservice', 'and']), WordList(['hoursservice', 'and', 'interest']), WordList(['and', 'interest', 'rate']), WordList(['interest', 'rate', 'on']), WordList(['rate', 'on', 'cdfriendly']), WordList(['on', 'cdfriendly', 'staff']), WordList(['cdfriendly', 'staff', 'and']), WordList(['staff', 'and', 'very']), WordList(['and', 'very', 'accommodatingno']), WordList(['very', 'accommodatingno', 'problems']), WordList(['accommodatingno', 'problems', 'with']), WordList(['problems', 'with', 'my']), WordList(['with', 'my', 'accountseven']), WordList(['my', 'accountseven', 'when']), WordList(['accountseven', 'when', 'my'])]\n"
     ]
    }
   ],
   "source": [
    "################################################################################################################################\n",
    "# 8. N-gram - unigrams, bigrams, trigrams,...,N-grams(N)\n",
    "\n",
    "# N-grams - The basic principle behind n-grams is that they capture the language structure, \n",
    "#like what letter or word is likely to follow the given one. \n",
    "#The longer the n-gram (the higher the n), the more context you have to work with. \n",
    "#Optimum length really depends on the application – if your n-grams are too short, you may fail to capture important differences. \n",
    "#On the other hand, if they are too long, you may fail to capture the “general knowledge” and only stick to particular cases.\n",
    "\n",
    "# Extract bigrams from the text using the ngrams function of the textblob library.\n",
    "#grams = TextBlob(df['problem'][50]).ngrams(2)\n",
    "\n",
    "#str_text_gram =''.join(word_list)\n",
    "#type(str_text_gram)\n",
    "\n",
    "from textblob import TextBlob\n",
    "bigrams = TextBlob(str_text).ngrams(2)  #bigrams is a list\n",
    "print('Bigrams:\\n',bigrams[:10])\n",
    "\n",
    "trigrams = TextBlob(str_text).ngrams(3)  \n",
    "print('Trigrams:\\n',trigrams[:20])\n",
    "\n",
    "#quadrograms = TextBlob(str_text).ngrams(4)  \n",
    "#print('Quadrograms:\\n',quadrograms[:20])"
   ]
  },
  {
   "cell_type": "code",
   "execution_count": 34,
   "metadata": {},
   "outputs": [],
   "source": [
    "df=df_0"
   ]
  },
  {
   "cell_type": "code",
   "execution_count": 84,
   "metadata": {},
   "outputs": [],
   "source": [
    "# Tokenization - Divide the text into a sequence of words or sentences \n",
    "# The textblob library is used to first transform the text into a blob and then convert them into a series of words.\n",
    "\n",
    "#Tokenize the text\n",
    "#TextBlob(str_text).words  \n",
    "#TextBlob(str_text[:100]).words"
   ]
  },
  {
   "cell_type": "code",
   "execution_count": 41,
   "metadata": {},
   "outputs": [
    {
     "name": "stdout",
     "output_type": "stream",
     "text": [
      "           words   tf       idf     tfidf\n",
      "0                 2.0  0.000000  0.000000\n",
      "1     Convenient  1.0  4.143135  4.143135\n",
      "2      Excellent  1.0  4.143135  4.143135\n",
      "3       Friendly  2.0  2.756840  5.513681\n",
      "4             No  1.0  2.197225  2.197225\n",
      "5              a  1.0  0.154151  0.154151\n",
      "6          about  1.0  4.143135  4.143135\n",
      "7  accommodating  1.0  4.143135  4.143135\n",
      "8  accounts.Even  1.0  4.143135  4.143135\n",
      "9            and  3.0  1.435085  4.305254\n"
     ]
    },
    {
     "data": {
      "text/plain": [
       "'\\nThe more common the word across documents, the lower its score and \\nthe more unique a word is to our first document, the higher the score. \\n'"
      ]
     },
     "execution_count": 41,
     "metadata": {},
     "output_type": "execute_result"
    }
   ],
   "source": [
    "################################################################################################################################\n",
    "# 9. Term frequency (TF) -  the ratio of the count of a word present in a sentence, to the length of the sentence\n",
    "#    Inverse Document Frequency (IDF)- The intuition is that a word is not much of use if it appears in all the documents.\n",
    "\n",
    "##### (1) TF = (Number of times term T appears in the particular row) / (number of terms in that row)\n",
    "\n",
    "tf1 = (df['Customer_comment'][1:10]).apply(lambda x: pd.value_counts(x.split(\" \"))).sum(axis = 0).reset_index()\n",
    "tf1.columns = ['words','tf']  #pandas.core.frame.DataFrame\n",
    "#print(tf1.head(10))\n",
    "\n",
    "##### (2) IDF = log(N/n), where, N is the total number of rows and n is the number of rows in which the word was present.\n",
    "#              The IDF of each word is the log of the ratio of the total number of rows to the number of rows    \n",
    "\n",
    "import numpy as np\n",
    "for i,word in enumerate(tf1['words']):\n",
    "    tf1.loc[i, 'idf'] = np.log(df.shape[0]/(len(df[df['Customer_comment'].str.contains(word)])))\n",
    "\n",
    "#print(tf1.head(10))\n",
    "\n",
    "# (3) TF-IDF (Term Frequency – Inverse Document Frequency) is the multiplication of the TF and IDF calculated above and \n",
    "#           indicates how important a term is relative to a document and to a corpus, a collection of documents. \n",
    "\n",
    "tf1['tfidf'] = tf1['tf'] * tf1['idf']\n",
    "print(tf1.head(10))\n",
    "\n",
    "\"\"\"\n",
    "The more common the word across documents, the lower its score and \n",
    "the more unique a word is to our first document, the higher the score. \n",
    "\"\"\"\n"
   ]
  },
  {
   "cell_type": "code",
   "execution_count": 36,
   "metadata": {},
   "outputs": [
    {
     "data": {
      "text/html": [
       "<div>\n",
       "<style scoped>\n",
       "    .dataframe tbody tr th:only-of-type {\n",
       "        vertical-align: middle;\n",
       "    }\n",
       "\n",
       "    .dataframe tbody tr th {\n",
       "        vertical-align: top;\n",
       "    }\n",
       "\n",
       "    .dataframe thead th {\n",
       "        text-align: right;\n",
       "    }\n",
       "</style>\n",
       "<table border=\"1\" class=\"dataframe\">\n",
       "  <thead>\n",
       "    <tr style=\"text-align: right;\">\n",
       "      <th></th>\n",
       "      <th>words</th>\n",
       "      <th>tf</th>\n",
       "      <th>idf</th>\n",
       "      <th>tfidf</th>\n",
       "    </tr>\n",
       "  </thead>\n",
       "  <tbody>\n",
       "    <tr>\n",
       "      <th>0</th>\n",
       "      <td></td>\n",
       "      <td>2.0</td>\n",
       "      <td>0.000000</td>\n",
       "      <td>0.000000</td>\n",
       "    </tr>\n",
       "    <tr>\n",
       "      <th>1</th>\n",
       "      <td>Convenient</td>\n",
       "      <td>1.0</td>\n",
       "      <td>4.143135</td>\n",
       "      <td>4.143135</td>\n",
       "    </tr>\n",
       "    <tr>\n",
       "      <th>2</th>\n",
       "      <td>Excellent</td>\n",
       "      <td>1.0</td>\n",
       "      <td>4.143135</td>\n",
       "      <td>4.143135</td>\n",
       "    </tr>\n",
       "    <tr>\n",
       "      <th>3</th>\n",
       "      <td>Friendly</td>\n",
       "      <td>2.0</td>\n",
       "      <td>2.756840</td>\n",
       "      <td>5.513681</td>\n",
       "    </tr>\n",
       "    <tr>\n",
       "      <th>4</th>\n",
       "      <td>No</td>\n",
       "      <td>1.0</td>\n",
       "      <td>2.197225</td>\n",
       "      <td>2.197225</td>\n",
       "    </tr>\n",
       "    <tr>\n",
       "      <th>5</th>\n",
       "      <td>a</td>\n",
       "      <td>1.0</td>\n",
       "      <td>0.154151</td>\n",
       "      <td>0.154151</td>\n",
       "    </tr>\n",
       "    <tr>\n",
       "      <th>6</th>\n",
       "      <td>about</td>\n",
       "      <td>1.0</td>\n",
       "      <td>4.143135</td>\n",
       "      <td>4.143135</td>\n",
       "    </tr>\n",
       "    <tr>\n",
       "      <th>7</th>\n",
       "      <td>accommodating</td>\n",
       "      <td>1.0</td>\n",
       "      <td>4.143135</td>\n",
       "      <td>4.143135</td>\n",
       "    </tr>\n",
       "    <tr>\n",
       "      <th>8</th>\n",
       "      <td>accounts.Even</td>\n",
       "      <td>1.0</td>\n",
       "      <td>4.143135</td>\n",
       "      <td>4.143135</td>\n",
       "    </tr>\n",
       "    <tr>\n",
       "      <th>9</th>\n",
       "      <td>and</td>\n",
       "      <td>3.0</td>\n",
       "      <td>1.435085</td>\n",
       "      <td>4.305254</td>\n",
       "    </tr>\n",
       "  </tbody>\n",
       "</table>\n",
       "</div>"
      ],
      "text/plain": [
       "           words   tf       idf     tfidf\n",
       "0                 2.0  0.000000  0.000000\n",
       "1     Convenient  1.0  4.143135  4.143135\n",
       "2      Excellent  1.0  4.143135  4.143135\n",
       "3       Friendly  2.0  2.756840  5.513681\n",
       "4             No  1.0  2.197225  2.197225\n",
       "5              a  1.0  0.154151  0.154151\n",
       "6          about  1.0  4.143135  4.143135\n",
       "7  accommodating  1.0  4.143135  4.143135\n",
       "8  accounts.Even  1.0  4.143135  4.143135\n",
       "9            and  3.0  1.435085  4.305254"
      ]
     },
     "execution_count": 36,
     "metadata": {},
     "output_type": "execute_result"
    }
   ],
   "source": [
    "#tf1.head(10)"
   ]
  },
  {
   "cell_type": "code",
   "execution_count": 43,
   "metadata": {},
   "outputs": [
    {
     "data": {
      "text/html": [
       "<div>\n",
       "<style scoped>\n",
       "    .dataframe tbody tr th:only-of-type {\n",
       "        vertical-align: middle;\n",
       "    }\n",
       "\n",
       "    .dataframe tbody tr th {\n",
       "        vertical-align: top;\n",
       "    }\n",
       "\n",
       "    .dataframe thead th {\n",
       "        text-align: right;\n",
       "    }\n",
       "</style>\n",
       "<table border=\"1\" class=\"dataframe\">\n",
       "  <thead>\n",
       "    <tr style=\"text-align: right;\">\n",
       "      <th></th>\n",
       "      <th>Customer_comment</th>\n",
       "      <th>sentiment</th>\n",
       "    </tr>\n",
       "  </thead>\n",
       "  <tbody>\n",
       "    <tr>\n",
       "      <th>0</th>\n",
       "      <td>Friendly employees</td>\n",
       "      <td>0.3750</td>\n",
       "    </tr>\n",
       "    <tr>\n",
       "      <th>1</th>\n",
       "      <td>Friendly bank personnel.Good banking hours.</td>\n",
       "      <td>0.3750</td>\n",
       "    </tr>\n",
       "    <tr>\n",
       "      <th>2</th>\n",
       "      <td>service and interest rate on cd</td>\n",
       "      <td>0.0000</td>\n",
       "    </tr>\n",
       "    <tr>\n",
       "      <th>3</th>\n",
       "      <td>friendly staff and very accommodating</td>\n",
       "      <td>0.2875</td>\n",
       "    </tr>\n",
       "    <tr>\n",
       "      <th>4</th>\n",
       "      <td>No problems with my accounts.Even when my info...</td>\n",
       "      <td>0.0000</td>\n",
       "    </tr>\n",
       "    <tr>\n",
       "      <th>5</th>\n",
       "      <td>Excellent service</td>\n",
       "      <td>1.0000</td>\n",
       "    </tr>\n",
       "    <tr>\n",
       "      <th>6</th>\n",
       "      <td>Friendly and knowledgeable employees.</td>\n",
       "      <td>0.3750</td>\n",
       "    </tr>\n",
       "    <tr>\n",
       "      <th>7</th>\n",
       "      <td>convience of many locations for banking</td>\n",
       "      <td>0.5000</td>\n",
       "    </tr>\n",
       "    <tr>\n",
       "      <th>8</th>\n",
       "      <td>friendly helpful workers, usually can talk to ...</td>\n",
       "      <td>0.0625</td>\n",
       "    </tr>\n",
       "    <tr>\n",
       "      <th>9</th>\n",
       "      <td>Convenient</td>\n",
       "      <td>0.0000</td>\n",
       "    </tr>\n",
       "  </tbody>\n",
       "</table>\n",
       "</div>"
      ],
      "text/plain": [
       "                                    Customer_comment  sentiment\n",
       "0                                Friendly employees      0.3750\n",
       "1        Friendly bank personnel.Good banking hours.     0.3750\n",
       "2                    service and interest rate on cd     0.0000\n",
       "3              friendly staff and very accommodating     0.2875\n",
       "4  No problems with my accounts.Even when my info...     0.0000\n",
       "5                                 Excellent service      1.0000\n",
       "6              Friendly and knowledgeable employees.     0.3750\n",
       "7            convience of many locations for banking     0.5000\n",
       "8  friendly helpful workers, usually can talk to ...     0.0625\n",
       "9                                        Convenient      0.0000"
      ]
     },
     "execution_count": 43,
     "metadata": {},
     "output_type": "execute_result"
    }
   ],
   "source": [
    "################################################################################################################################\n",
    "# 10.Sentiment Analysis - Detect the sentiment of the problem using the textblob library\n",
    "\"\"\"\n",
    "# It returns a tuple representing polarity and subjectivity of each problem below. \n",
    "df['reason'][:5].apply(lambda x: TextBlob(x).sentiment)\n",
    "#df['reason'][1:10].apply(lambda x: TextBlob(x).sentiment)\n",
    "\"\"\"\n",
    "from textblob import TextBlob\n",
    "# Only polarity is extracted as it indicates the sentiment: 1 means a positive sentiment and values nearer to -1 means a negative sentiment. \n",
    "df['sentiment'] = df['Customer_comment'].apply(lambda x: TextBlob(x).sentiment[0] )\n",
    "df[['Customer_comment','sentiment']].head(10)"
   ]
  },
  {
   "cell_type": "code",
   "execution_count": null,
   "metadata": {},
   "outputs": [],
   "source": []
  },
  {
   "cell_type": "code",
   "execution_count": null,
   "metadata": {},
   "outputs": [],
   "source": []
  },
  {
   "cell_type": "code",
   "execution_count": null,
   "metadata": {},
   "outputs": [],
   "source": []
  },
  {
   "cell_type": "code",
   "execution_count": null,
   "metadata": {},
   "outputs": [],
   "source": []
  },
  {
   "cell_type": "code",
   "execution_count": null,
   "metadata": {},
   "outputs": [],
   "source": []
  },
  {
   "cell_type": "code",
   "execution_count": null,
   "metadata": {},
   "outputs": [],
   "source": []
  },
  {
   "cell_type": "code",
   "execution_count": null,
   "metadata": {},
   "outputs": [],
   "source": []
  },
  {
   "cell_type": "code",
   "execution_count": null,
   "metadata": {},
   "outputs": [],
   "source": []
  },
  {
   "cell_type": "code",
   "execution_count": null,
   "metadata": {},
   "outputs": [],
   "source": []
  },
  {
   "cell_type": "code",
   "execution_count": null,
   "metadata": {},
   "outputs": [],
   "source": []
  },
  {
   "cell_type": "code",
   "execution_count": null,
   "metadata": {},
   "outputs": [],
   "source": []
  },
  {
   "cell_type": "code",
   "execution_count": null,
   "metadata": {},
   "outputs": [],
   "source": []
  },
  {
   "cell_type": "code",
   "execution_count": null,
   "metadata": {},
   "outputs": [],
   "source": []
  },
  {
   "cell_type": "code",
   "execution_count": null,
   "metadata": {},
   "outputs": [],
   "source": []
  },
  {
   "cell_type": "code",
   "execution_count": null,
   "metadata": {},
   "outputs": [],
   "source": []
  },
  {
   "cell_type": "code",
   "execution_count": null,
   "metadata": {},
   "outputs": [],
   "source": []
  },
  {
   "cell_type": "code",
   "execution_count": null,
   "metadata": {},
   "outputs": [],
   "source": []
  },
  {
   "cell_type": "code",
   "execution_count": null,
   "metadata": {},
   "outputs": [],
   "source": []
  },
  {
   "cell_type": "code",
   "execution_count": null,
   "metadata": {},
   "outputs": [],
   "source": []
  },
  {
   "cell_type": "code",
   "execution_count": null,
   "metadata": {},
   "outputs": [],
   "source": []
  },
  {
   "cell_type": "code",
   "execution_count": null,
   "metadata": {},
   "outputs": [],
   "source": []
  },
  {
   "cell_type": "code",
   "execution_count": null,
   "metadata": {},
   "outputs": [],
   "source": []
  },
  {
   "cell_type": "code",
   "execution_count": null,
   "metadata": {},
   "outputs": [],
   "source": []
  },
  {
   "cell_type": "code",
   "execution_count": null,
   "metadata": {},
   "outputs": [],
   "source": []
  },
  {
   "cell_type": "code",
   "execution_count": null,
   "metadata": {},
   "outputs": [],
   "source": []
  }
 ],
 "metadata": {
  "hide_input": false,
  "kernelspec": {
   "display_name": "Python 3",
   "language": "python",
   "name": "python3"
  },
  "language_info": {
   "codemirror_mode": {
    "name": "ipython",
    "version": 3
   },
   "file_extension": ".py",
   "mimetype": "text/x-python",
   "name": "python",
   "nbconvert_exporter": "python",
   "pygments_lexer": "ipython3",
   "version": "3.6.4"
  },
  "varInspector": {
   "cols": {
    "lenName": 16,
    "lenType": 16,
    "lenVar": 40
   },
   "kernels_config": {
    "python": {
     "delete_cmd_postfix": "",
     "delete_cmd_prefix": "del ",
     "library": "var_list.py",
     "varRefreshCmd": "print(var_dic_list())"
    },
    "r": {
     "delete_cmd_postfix": ") ",
     "delete_cmd_prefix": "rm(",
     "library": "var_list.r",
     "varRefreshCmd": "cat(var_dic_list()) "
    }
   },
   "types_to_exclude": [
    "module",
    "function",
    "builtin_function_or_method",
    "instance",
    "_Feature"
   ],
   "window_display": false
  }
 },
 "nbformat": 4,
 "nbformat_minor": 2
}
